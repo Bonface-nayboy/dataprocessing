{
 "cells": [
  {
   "cell_type": "code",
   "execution_count": 196,
   "id": "7bd804e6-8b92-4b67-b908-8d67cf561228",
   "metadata": {},
   "outputs": [],
   "source": [
    "import pandas as pd\n",
    "import numpy as np\n",
    "import matplotlib.pyplot as plt\n",
    "from scipy.stats import zscore"
   ]
  },
  {
   "cell_type": "code",
   "execution_count": 197,
   "id": "accfcabf-910e-45a6-9b40-2526bbd3a9df",
   "metadata": {},
   "outputs": [],
   "source": [
    "activity_data=pd.read_csv(r\"C:\\Users\\ReerGlobal\\Desktop\\Business_Intelligence_Project\\ActivityData.csv\", header=None)\n",
    "subscribers_data=pd.read_csv(r\"C:\\Users\\ReerGlobal\\Desktop\\Business_Intelligence_Project\\SubscribersData.csv\")\n",
    "# print(activity_data.shape)  # This will give you the number of rows and columns\n",
    "# print(activity_data.head())  # This will show you the first few rows of the DataFrame\n",
    "activity_data.columns = ['PhoneNumber-SubscriberIdentityNumber', 'Duration', 'Activity', 'ErrorCode']\n",
    "# print(activity_data.columns)"
   ]
  },
  {
   "cell_type": "code",
   "execution_count": 198,
   "id": "41eda5f7-78e9-4d0d-a3f6-a90f8b57ac2f",
   "metadata": {},
   "outputs": [],
   "source": [
    "activity_data.columns = ['PhoneNumber-SubscriberIdentityNumber', 'Duration', 'Activity', 'ErrorCode']"
   ]
  },
  {
   "cell_type": "code",
   "execution_count": 199,
   "id": "2962c64b-48a3-4387-939e-470cb431e1f7",
   "metadata": {},
   "outputs": [
    {
     "name": "stdout",
     "output_type": "stream",
     "text": [
      "First 10 rows of ActivityData:\n",
      "  PhoneNumber-SubscriberIdentityNumber  Duration        Activity ErrorCode\n",
      "0           1654788999-345278656547333       2.0     Phone Call-       NaN\n",
      "1           1888777222-345278666547334       0.0            SMS-         Y\n",
      "2           1122765445-345278676547335      10.0  Internet Data-       NaN\n",
      "3           1356753668-345278686547336       1.0  Phone Call-111       NaN\n",
      "4           1590741891-345278696547337       2.0  Phone Call-111       NaN\n",
      "5           1824730114-345278706547338       3.0  Phone Call-111       NaN\n",
      "6           1058718337-345278716547339       4.0  Phone Call-111       NaN\n",
      "7           1292706560-345278726547340       5.0     Phone Call-       NaN\n",
      "8           1526694783-345278736547341      12.0     Phone Call-       NaN\n",
      "9           1526694784-345278746547342      11.0     Phone Call-       NaN\n",
      "\n",
      "First 10 rows of SubscribersData:\n",
      "   SubscriberIdentityNumber  Phone Number Subscriber Name        SSN  \\\n",
      "0           345278656547333    1654788999            Mike  214448881   \n",
      "1           345278666547334    1888777222            John  214448882   \n",
      "2           345278676547335    1122765445           James  214448883   \n",
      "3           345278686547336            10          Robert  214448884   \n",
      "4           345278696547337    1590741891          Thomas  214448885   \n",
      "5           345278706547338            20         Charles  214448886   \n",
      "6           345278716547339    1058718337             Sam  214448887   \n",
      "7           345278726547340    1292706560          Antony  214448888   \n",
      "8           345278736547341    1526694783             Raj  214448889   \n",
      "9           345278746547342    1526694784           Brian  214448890   \n",
      "\n",
      "   Subscriber Age    State  Zip Code SubscribedFromDate Internet Service  \\\n",
      "0              25  Arizona     85005          1/12/2018           Active   \n",
      "1              15  Florida     33130         12/12/2018           Active   \n",
      "2              45  Newyork     10005          5/25/2018           Active   \n",
      "3              62  Newyork     10006          11/5/2017         InActive   \n",
      "4              15  Newyork     10007          4/18/2017           Active   \n",
      "5              33  Newyork     10008          9/29/2019           Active   \n",
      "6              22  Newyork     10009          3/12/2016           Active   \n",
      "7              78  Newyork     10010          8/24/2015           Active   \n",
      "8              55  Newyork     10011           2/4/2019           Active   \n",
      "9              44  Newyork     10012           2/5/2019           Active   \n",
      "\n",
      "  SMS Service Churn Status  \n",
      "0      Active       Active  \n",
      "1      Active       Active  \n",
      "2      Active       Active  \n",
      "3         NaN       Active  \n",
      "4      Active          NaN  \n",
      "5      Active       Active  \n",
      "6      Active       Active  \n",
      "7      Active       Active  \n",
      "8      Active          NaN  \n",
      "9      Active       Active  \n"
     ]
    }
   ],
   "source": [
    "print(\"First 10 rows of ActivityData:\")\n",
    "print(activity_data.head(10))\n",
    "print(\"\\nFirst 10 rows of SubscribersData:\")\n",
    "print(subscribers_data.head(10))"
   ]
  },
  {
   "cell_type": "code",
   "execution_count": 200,
   "id": "c25f56ff-c04a-49e5-a8ec-3ca2d2d4f18b",
   "metadata": {},
   "outputs": [
    {
     "name": "stdout",
     "output_type": "stream",
     "text": [
      "\n",
      "Shape of ActivityData: (1000, 4)\n",
      "Shape of SubscribersData: (505, 11)\n"
     ]
    }
   ],
   "source": [
    "print(\"\\nShape of ActivityData:\", activity_data.shape)\n",
    "print(\"Shape of SubscribersData:\", subscribers_data.shape)"
   ]
  },
  {
   "cell_type": "code",
   "execution_count": 201,
   "id": "c05e4c47-cd3f-43b2-b335-f5ca4b6a635e",
   "metadata": {},
   "outputs": [
    {
     "name": "stdout",
     "output_type": "stream",
     "text": [
      "\n",
      "Null values in ActivityData:\n",
      " PhoneNumber-SubscriberIdentityNumber      0\n",
      "Duration                                  0\n",
      "Activity                                  0\n",
      "ErrorCode                               980\n",
      "dtype: int64\n",
      "Null values in SubscribersData:\n",
      " SubscriberIdentityNumber    0\n",
      "Phone Number                0\n",
      "Subscriber Name             0\n",
      "SSN                         0\n",
      "Subscriber Age              0\n",
      "State                       0\n",
      "Zip Code                    0\n",
      "SubscribedFromDate          0\n",
      "Internet Service            0\n",
      "SMS Service                 4\n",
      "Churn Status                6\n",
      "dtype: int64\n"
     ]
    }
   ],
   "source": [
    "print(\"\\nNull values in ActivityData:\\n\", activity_data.isnull().sum())\n",
    "print(\"Null values in SubscribersData:\\n\", subscribers_data.isnull().sum())"
   ]
  },
  {
   "cell_type": "code",
   "execution_count": 202,
   "id": "944dc365-75c2-4ae4-a8b2-516cf756cc8f",
   "metadata": {},
   "outputs": [
    {
     "name": "stdout",
     "output_type": "stream",
     "text": [
      "\n",
      "Central tendency measures in ActivityData:\n",
      "           Duration\n",
      "count  1000.000000\n",
      "mean      9.541200\n",
      "std      13.188744\n",
      "min       0.000000\n",
      "25%       1.000000\n",
      "50%      10.000000\n",
      "75%      14.000000\n",
      "max     120.000000\n",
      "\n",
      "Central tendency measures in SubscribersData:\n",
      "        SubscriberIdentityNumber  Phone Number           SSN  Subscriber Age  \\\n",
      "count              5.050000e+02  5.050000e+02  5.050000e+02      505.000000   \n",
      "mean               3.452812e+14  1.513510e+09  2.144491e+08       38.572277   \n",
      "std                1.458411e+09  1.396134e+08  1.458410e+02       14.192946   \n",
      "min                3.452787e+14  1.000000e+01  2.144489e+08       15.000000   \n",
      "25%                3.452799e+14  1.526695e+09  2.144490e+08       30.000000   \n",
      "50%                3.452812e+14  1.526695e+09  2.144491e+08       36.000000   \n",
      "75%                3.452824e+14  1.526695e+09  2.144493e+08       44.000000   \n",
      "max                3.452836e+14  1.888777e+09  2.144494e+08       78.000000   \n",
      "\n",
      "           Zip Code  \n",
      "count    505.000000  \n",
      "mean   33571.891089  \n",
      "std    17933.348377  \n",
      "min     7039.000000  \n",
      "25%    10017.000000  \n",
      "50%    44115.000000  \n",
      "75%    44140.000000  \n",
      "max    85005.000000  \n"
     ]
    }
   ],
   "source": [
    "print(\"\\nCentral tendency measures in ActivityData:\\n\", activity_data.describe())\n",
    "print(\"\\nCentral tendency measures in SubscribersData:\\n\", subscribers_data.describe())"
   ]
  },
  {
   "cell_type": "code",
   "execution_count": 203,
   "id": "7d7aa0ac-cb8e-488d-a529-5467f7e2e7cf",
   "metadata": {},
   "outputs": [],
   "source": [
    "activity_data.fillna(activity_data.select_dtypes(include=[np.number]).mean(), inplace=True)\n",
    "subscribers_data.fillna(subscribers_data.select_dtypes(include=[np.number]).mean(), inplace=True)"
   ]
  },
  {
   "cell_type": "code",
   "execution_count": 204,
   "id": "3039cdf5-629d-4bea-99b6-8dd1254f9dab",
   "metadata": {},
   "outputs": [],
   "source": [
    "z_scores_activity = np.abs(zscore(activity_data.select_dtypes(include=[np.number])))\n",
    "activity_data = activity_data[(z_scores_activity < 3).all(axis=1)]\n",
    "z_scores_subscribers = np.abs(zscore(subscribers_data.select_dtypes(include=[np.number])))\n",
    "subscribers_data = subscribers_data[(z_scores_subscribers < 3).all(axis=1)]"
   ]
  },
  {
   "cell_type": "code",
   "execution_count": 205,
   "id": "7515be2e-f6f8-42ec-bb63-73ef7894374a",
   "metadata": {},
   "outputs": [],
   "source": [
    "activity_data.drop_duplicates(inplace=True)\n",
    "subscribers_data.drop_duplicates(inplace=True)"
   ]
  },
  {
   "cell_type": "code",
   "execution_count": 206,
   "id": "27fc5cfc-095e-47e6-8249-d5f09e79a339",
   "metadata": {},
   "outputs": [
    {
     "name": "stdout",
     "output_type": "stream",
     "text": [
      "\n",
      "Final shape of ActivityData: (512, 4)\n",
      "Final shape of SubscribersData: (495, 11)\n"
     ]
    }
   ],
   "source": [
    "print(\"\\nFinal shape of ActivityData:\", activity_data.shape)\n",
    "print(\"Final shape of SubscribersData:\", subscribers_data.shape)"
   ]
  },
  {
   "cell_type": "code",
   "execution_count": 207,
   "id": "9ad38780-3c91-4603-b56a-cca7c1592b1b",
   "metadata": {},
   "outputs": [],
   "source": [
    "activity_data.to_csv(\"Preprocessed_ActivityData.csv\", index=False)\n",
    "subscribers_data.to_csv(\"Preprocessed_SubscribersData.csv\", index=False)"
   ]
  },
  {
   "cell_type": "code",
   "execution_count": 208,
   "id": "31e271a6-b3dc-473b-b9f3-d9b6436e16ff",
   "metadata": {},
   "outputs": [
    {
     "name": "stdout",
     "output_type": "stream",
     "text": [
      "Index(['PhoneNumber-SubscriberIdentityNumber', 'Duration', 'Activity',\n",
      "       'ErrorCode'],\n",
      "      dtype='object')\n"
     ]
    }
   ],
   "source": [
    "print(activity_data.columns)"
   ]
  },
  {
   "cell_type": "code",
   "execution_count": 209,
   "id": "7fa1df72-8a2d-4516-8e5c-3203ee4102ed",
   "metadata": {},
   "outputs": [],
   "source": [
    "activity_data[['PhoneNumber', 'Subscriber Identity Number']] = activity_data['PhoneNumber-SubscriberIdentityNumber'].str.split('-', expand=True)"
   ]
  },
  {
   "cell_type": "code",
   "execution_count": 210,
   "id": "8da4b824-dea1-4c63-8230-ae3766a1a352",
   "metadata": {},
   "outputs": [],
   "source": [
    "activity_data['Error Code'] = activity_data['ErrorCode'].fillna(0) "
   ]
  },
  {
   "cell_type": "code",
   "execution_count": 211,
   "id": "7093df35-370d-4458-a7f8-1ee7a08cec4b",
   "metadata": {},
   "outputs": [],
   "source": [
    "activity_data.drop(['PhoneNumber-SubscriberIdentityNumber', 'ErrorCode'], axis=1, inplace=True)"
   ]
  },
  {
   "cell_type": "code",
   "execution_count": 212,
   "id": "7ba9cc68-f94c-4acf-996d-c94b5274be29",
   "metadata": {},
   "outputs": [
    {
     "name": "stdout",
     "output_type": "stream",
     "text": [
      "\n",
      "Formatted ActivityData (first 10 rows):\n",
      "   Duration        Activity PhoneNumber Subscriber Identity Number Error Code\n",
      "0       2.0     Phone Call-  1654788999            345278656547333          0\n",
      "1       0.0            SMS-  1888777222            345278666547334          Y\n",
      "2      10.0  Internet Data-  1122765445            345278676547335          0\n",
      "3       1.0  Phone Call-111  1356753668            345278686547336          0\n",
      "4       2.0  Phone Call-111  1590741891            345278696547337          0\n",
      "5       3.0  Phone Call-111  1824730114            345278706547338          0\n",
      "6       4.0  Phone Call-111  1058718337            345278716547339          0\n",
      "7       5.0     Phone Call-  1292706560            345278726547340          0\n",
      "8      12.0     Phone Call-  1526694783            345278736547341          0\n",
      "9      11.0     Phone Call-  1526694784            345278746547342          0\n"
     ]
    }
   ],
   "source": [
    "print(\"\\nFormatted ActivityData (first 10 rows):\")\n",
    "print(activity_data.head(10))"
   ]
  },
  {
   "cell_type": "code",
   "execution_count": 213,
   "id": "4b78ba34-1a35-4da8-89db-656089de2a60",
   "metadata": {},
   "outputs": [
    {
     "name": "stdout",
     "output_type": "stream",
     "text": [
      "\n",
      "Null values in formatted ActivityData:\n",
      " Duration                      0\n",
      "Activity                      0\n",
      "PhoneNumber                   0\n",
      "Subscriber Identity Number    0\n",
      "Error Code                    0\n",
      "dtype: int64\n"
     ]
    }
   ],
   "source": [
    "print(\"\\nNull values in formatted ActivityData:\\n\", activity_data.isnull().sum())"
   ]
  },
  {
   "cell_type": "code",
   "execution_count": 214,
   "id": "279d23dd-acd5-47af-ae67-3f102e8ff8ff",
   "metadata": {},
   "outputs": [],
   "source": [
    "activity_data.loc[:, 'Error Code'] = activity_data['Error Code'].fillna(0)"
   ]
  },
  {
   "cell_type": "code",
   "execution_count": 215,
   "id": "272eb3a7-4171-4b13-aab2-33697f424fa3",
   "metadata": {},
   "outputs": [
    {
     "name": "stdout",
     "output_type": "stream",
     "text": [
      "[ 2.   0.  10.   1.   3.   4.   5.  12.  11.  22.  25.   8.   7.   9.\n",
      "  3.6  3.5  3.2  3.1  4.2  4.3  4.5 15.  18.  13.  14.  16.  17.  19.\n",
      " 20. ]\n"
     ]
    }
   ],
   "source": [
    "print(activity_data['Duration'].unique())"
   ]
  },
  {
   "cell_type": "code",
   "execution_count": 216,
   "id": "6b6beeb1-1692-49f4-b567-15a9b3bd730f",
   "metadata": {},
   "outputs": [
    {
     "data": {
      "image/png": "[encoded data removed]",
      "text/plain": [
       "<Figure size 1000x500 with 1 Axes>"
      ]
     },
     "metadata": {},
     "output_type": "display_data"
    }
   ],
   "source": [
    "plt.figure(figsize=(10, 5))\n",
    "plt.hist(activity_data['Duration'], bins=30, color='skyblue', edgecolor='black')\n",
    "plt.title(\"Duration Distribution\")\n",
    "plt.xlabel(\"Duration\")\n",
    "plt.ylabel(\"Frequency\")\n",
    "plt.show()"
   ]
  },
  {
   "cell_type": "code",
   "execution_count": 217,
   "id": "15c5e188-efc7-41ab-be0c-0e6a64f12f01",
   "metadata": {},
   "outputs": [],
   "source": [
    "activity_data.to_csv(\"Formatted_ActivityData.csv\", index=False)"
   ]
  }
 ],
 "metadata": {
  "kernelspec": {
   "display_name": "Python 3 (ipykernel)",
   "language": "python",
   "name": "python3"
  },
  "language_info": {
   "codemirror_mode": {
    "name": "ipython",
    "version": 3
   },
   "file_extension": ".py",
   "mimetype": "text/x-python",
   "name": "python",
   "nbconvert_exporter": "python",
   "pygments_lexer": "ipython3",
   "version": "3.12.7"
  }
 },
 "nbformat": 4,
 "nbformat_minor": 5
}
